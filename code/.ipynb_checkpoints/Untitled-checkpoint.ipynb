{
 "cells": [
  {
   "cell_type": "markdown",
   "id": "29cd9962",
   "metadata": {},
   "source": [
    "# Project 2 - Ames Housing Data and Kaggle Challenge\n",
    "---\n",
    "By: Darien Ang"
   ]
  },
  {
   "cell_type": "markdown",
   "id": "6444b324",
   "metadata": {},
   "source": [
    "# Problem Statement\n",
    "---"
   ]
  },
  {
   "cell_type": "markdown",
   "id": "258fc066",
   "metadata": {},
   "source": [
    "\n",
    "Wether you are seller, buyer or real-estate agents, housing prices are dependent on so many factors. The question is how can we determine which factors (features) that have strong influence on the housing sale price. Using the Ames(IA) dataset, the goal of this project is to create a regression model that is able to predict accurately on the sale price of each house in Ames(IA)."
   ]
  },
  {
   "cell_type": "markdown",
   "id": "8f16d119",
   "metadata": {},
   "source": [
    "# Executive Summary\n",
    "---"
   ]
  },
  {
   "cell_type": "markdown",
   "id": "046c6a94",
   "metadata": {},
   "source": [
    "### Contents:"
   ]
  },
  {
   "cell_type": "markdown",
   "id": "2263fdd4",
   "metadata": {},
   "source": [
    "- Importing the Libraries\n",
    "- Importing Training and Testing dataset\n",
    "- Data Cleaning\n",
    "- Experimental Data Analysis (EDA)\n",
    "- Feature Engineering\n",
    "- Pre-processing and prediction of data\n",
    "- Model selection and evaluation\n",
    "- Conclusion"
   ]
  },
  {
   "cell_type": "markdown",
   "id": "2c2a0326",
   "metadata": {},
   "source": [
    "### Data:"
   ]
  },
  {
   "cell_type": "markdown",
   "id": "1a7d831e",
   "metadata": {},
   "source": [
    "- [Train](../datasets/train.csv)\n",
    "- [Test](../datasets/test.csv)"
   ]
  },
  {
   "cell_type": "markdown",
   "id": "f732d449",
   "metadata": {},
   "source": [
    "# Data Dictionary\n",
    "---"
   ]
  },
  {
   "cell_type": "markdown",
   "id": "fc2f6463",
   "metadata": {},
   "source": [
    "The data dictionary may be found [here](http://jse.amstat.org/v19n3/decock/DataDocumentation.txt)."
   ]
  },
  {
   "cell_type": "markdown",
   "id": "4d20d475",
   "metadata": {},
   "source": [
    "### Data Cleaning & EDA"
   ]
  },
  {
   "cell_type": "markdown",
   "id": "b98fbc95",
   "metadata": {},
   "source": [
    "1. New Features were created for both Train and Test data set.\n",
    "2. Generate correlation figures against saleprice and remove numerical columns with low correlation.\n",
    "3. Plot heatmap to check for any multicollinearity and remove columns which has lower correlation against saleprice.\n",
    "4. After removing all the selected numerical columns, i will deal the null values and errors.\n",
    "5. Depending on my assumption, most of the null values, i will replace, 'none', '0', 'mean' or 'mode'.\n",
    "6. Remove outliers and also check on the distributions using seaborn.\n",
    "7. Anaylze on the categorical features and remove them accordingly.\n",
    "8. Used one-hot encoded matrix for categorical features."
   ]
  },
  {
   "cell_type": "markdown",
   "id": "de0bbf57",
   "metadata": {},
   "source": [
    "### Model Selection and Evaluation"
   ]
  },
  {
   "attachments": {
    "Kaggle%20score.jpg": {
     "image/jpeg": "[encoded data removed]"
    }
   },
   "cell_type": "markdown",
   "id": "6723a859",
   "metadata": {},
   "source": [
    "1. Generate train-test split, instantiate and fit model.\n",
    "2. Run different regression models, Linear, Ridge, Lasso and Baseline.\n",
    "|Scoring Metric|LINEAR|LASSO|RIDGE|BASELINE|\n",
    "|---|---|---|---|---|\n",
    "|R2|0.93|0.94|0.94|0|\n",
    "|RMSE|19909.82|19574.17|19250.99|77435.05|\n",
    "\n",
    "**Kaggle**\n",
    "![Kaggle%20score.jpg](attachment:Kaggle%20score.jpg)"
   ]
  },
  {
   "cell_type": "markdown",
   "id": "9b45c88d",
   "metadata": {},
   "source": [
    "# Conclusions"
   ]
  },
  {
   "attachments": {},
   "cell_type": "markdown",
   "id": "0df6eedf",
   "metadata": {},
   "source": [
    "Althought RIDGE has the highest RMSE, i will choose LASSO as my model as the difference is insignificant. Lasso can set coefficients to zero for those variables that are irrelevant, this will make the model simpler. LASSO model will perform best when having to predict housing within the range of 100k to 300k. <p>To fetch a better sale price, we will need to maintain/improve features that have high positive and negative coefficients. <br> Hence here are the top 5 features with positive and negative coefficients.<br>\n",
    "Top 5: Gr Liv Area, Overall Qual, Functional(Typical), BsmtFin SF 1, MS Zoning(RL)<br>\n",
    "Bottom 5: Remodel Age, Exter Cond(Poor), KitchenQual(TA), Home Age, Kitchen Qual(Gd)"
   ]
  },
  {
   "cell_type": "markdown",
   "id": "ce697dbc",
   "metadata": {},
   "source": [
    "# Recommendations"
   ]
  },
  {
   "cell_type": "markdown",
   "id": "130226f2",
   "metadata": {},
   "source": [
    "We can collect more data that will affect the saleprice:\n",
    "\n",
    "1. Distance to amenities.\n",
    "2. Crime rate / accident around the neighbourhood."
   ]
  }
 ],
 "metadata": {
  "kernelspec": {
   "display_name": "Python 3",
   "language": "python",
   "name": "python3"
  },
  "language_info": {
   "codemirror_mode": {
    "name": "ipython",
    "version": 3
   },
   "file_extension": ".py",
   "mimetype": "text/x-python",
   "name": "python",
   "nbconvert_exporter": "python",
   "pygments_lexer": "ipython3",
   "version": "3.8.8"
  }
 },
 "nbformat": 4,
 "nbformat_minor": 5
}
