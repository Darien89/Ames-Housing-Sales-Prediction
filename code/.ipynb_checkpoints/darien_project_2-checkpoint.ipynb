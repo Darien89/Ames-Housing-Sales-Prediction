{
 "cells": [
  {
   "cell_type": "markdown",
   "id": "967d2792",
   "metadata": {},
   "source": [
    "# Project 2: Ames House Price Prediction\n",
    "---"
   ]
  },
  {
   "cell_type": "markdown",
   "id": "b8714593",
   "metadata": {},
   "source": [
    "## Problem Statement"
   ]
  },
  {
   "cell_type": "markdown",
   "id": "77a2ed75",
   "metadata": {},
   "source": [
    "## Import libraries"
   ]
  },
  {
   "cell_type": "code",
   "execution_count": 1,
   "id": "eae2dd9e",
   "metadata": {},
   "outputs": [],
   "source": [
    "import numpy as np\n",
    "import pandas as pd\n",
    "import matplotlib.pyplot as plt\n",
    "import seaborn as sns\n",
    "\n",
    "from sklearn.linear_model import Ridge, Lasso, LinearRegression, RidgeCV, LassoCV\n",
    "from sklearn.preprocessing import StandardScaler, PolynomialFeatures\n",
    "from sklearn.model_selection import train_test_split, cross_val_score\n",
    "from sklearn.metrics import r2_score, mean_squared_error"
   ]
  },
  {
   "cell_type": "markdown",
   "id": "a6b652e4",
   "metadata": {},
   "source": [
    "## Load Data"
   ]
  },
  {
   "cell_type": "code",
   "execution_count": 2,
   "id": "cfe0069d",
   "metadata": {},
   "outputs": [
    {
     "ename": "FileNotFoundError",
     "evalue": "[Errno 2] No such file or directory: './datasets/train.csv'",
     "output_type": "error",
     "traceback": [
      "\u001b[1;31m---------------------------------------------------------------------------\u001b[0m",
      "\u001b[1;31mFileNotFoundError\u001b[0m                         Traceback (most recent call last)",
      "\u001b[1;32m<ipython-input-2-877ae9edde18>\u001b[0m in \u001b[0;36m<module>\u001b[1;34m\u001b[0m\n\u001b[1;32m----> 1\u001b[1;33m \u001b[0mtrain\u001b[0m \u001b[1;33m=\u001b[0m \u001b[0mpd\u001b[0m\u001b[1;33m.\u001b[0m\u001b[0mread_csv\u001b[0m\u001b[1;33m(\u001b[0m\u001b[1;34m'./datasets/train.csv'\u001b[0m\u001b[1;33m)\u001b[0m\u001b[1;33m\u001b[0m\u001b[1;33m\u001b[0m\u001b[0m\n\u001b[0m\u001b[0;32m      2\u001b[0m \u001b[0mtest\u001b[0m \u001b[1;33m=\u001b[0m \u001b[0mpd\u001b[0m\u001b[1;33m.\u001b[0m\u001b[0mread_csv\u001b[0m\u001b[1;33m(\u001b[0m\u001b[1;34m'./datasets/test.csv'\u001b[0m\u001b[1;33m)\u001b[0m\u001b[1;33m\u001b[0m\u001b[1;33m\u001b[0m\u001b[0m\n\u001b[0;32m      3\u001b[0m \u001b[0mtrain\u001b[0m\u001b[1;33m.\u001b[0m\u001b[0mhead\u001b[0m\u001b[1;33m(\u001b[0m\u001b[1;33m)\u001b[0m\u001b[1;33m\u001b[0m\u001b[1;33m\u001b[0m\u001b[0m\n",
      "\u001b[1;32m~\\anaconda3\\lib\\site-packages\\pandas\\io\\parsers.py\u001b[0m in \u001b[0;36mread_csv\u001b[1;34m(filepath_or_buffer, sep, delimiter, header, names, index_col, usecols, squeeze, prefix, mangle_dupe_cols, dtype, engine, converters, true_values, false_values, skipinitialspace, skiprows, skipfooter, nrows, na_values, keep_default_na, na_filter, verbose, skip_blank_lines, parse_dates, infer_datetime_format, keep_date_col, date_parser, dayfirst, cache_dates, iterator, chunksize, compression, thousands, decimal, lineterminator, quotechar, quoting, doublequote, escapechar, comment, encoding, dialect, error_bad_lines, warn_bad_lines, delim_whitespace, low_memory, memory_map, float_precision, storage_options)\u001b[0m\n\u001b[0;32m    608\u001b[0m     \u001b[0mkwds\u001b[0m\u001b[1;33m.\u001b[0m\u001b[0mupdate\u001b[0m\u001b[1;33m(\u001b[0m\u001b[0mkwds_defaults\u001b[0m\u001b[1;33m)\u001b[0m\u001b[1;33m\u001b[0m\u001b[1;33m\u001b[0m\u001b[0m\n\u001b[0;32m    609\u001b[0m \u001b[1;33m\u001b[0m\u001b[0m\n\u001b[1;32m--> 610\u001b[1;33m     \u001b[1;32mreturn\u001b[0m \u001b[0m_read\u001b[0m\u001b[1;33m(\u001b[0m\u001b[0mfilepath_or_buffer\u001b[0m\u001b[1;33m,\u001b[0m \u001b[0mkwds\u001b[0m\u001b[1;33m)\u001b[0m\u001b[1;33m\u001b[0m\u001b[1;33m\u001b[0m\u001b[0m\n\u001b[0m\u001b[0;32m    611\u001b[0m \u001b[1;33m\u001b[0m\u001b[0m\n\u001b[0;32m    612\u001b[0m \u001b[1;33m\u001b[0m\u001b[0m\n",
      "\u001b[1;32m~\\anaconda3\\lib\\site-packages\\pandas\\io\\parsers.py\u001b[0m in \u001b[0;36m_read\u001b[1;34m(filepath_or_buffer, kwds)\u001b[0m\n\u001b[0;32m    460\u001b[0m \u001b[1;33m\u001b[0m\u001b[0m\n\u001b[0;32m    461\u001b[0m     \u001b[1;31m# Create the parser.\u001b[0m\u001b[1;33m\u001b[0m\u001b[1;33m\u001b[0m\u001b[1;33m\u001b[0m\u001b[0m\n\u001b[1;32m--> 462\u001b[1;33m     \u001b[0mparser\u001b[0m \u001b[1;33m=\u001b[0m \u001b[0mTextFileReader\u001b[0m\u001b[1;33m(\u001b[0m\u001b[0mfilepath_or_buffer\u001b[0m\u001b[1;33m,\u001b[0m \u001b[1;33m**\u001b[0m\u001b[0mkwds\u001b[0m\u001b[1;33m)\u001b[0m\u001b[1;33m\u001b[0m\u001b[1;33m\u001b[0m\u001b[0m\n\u001b[0m\u001b[0;32m    463\u001b[0m \u001b[1;33m\u001b[0m\u001b[0m\n\u001b[0;32m    464\u001b[0m     \u001b[1;32mif\u001b[0m \u001b[0mchunksize\u001b[0m \u001b[1;32mor\u001b[0m \u001b[0miterator\u001b[0m\u001b[1;33m:\u001b[0m\u001b[1;33m\u001b[0m\u001b[1;33m\u001b[0m\u001b[0m\n",
      "\u001b[1;32m~\\anaconda3\\lib\\site-packages\\pandas\\io\\parsers.py\u001b[0m in \u001b[0;36m__init__\u001b[1;34m(self, f, engine, **kwds)\u001b[0m\n\u001b[0;32m    817\u001b[0m             \u001b[0mself\u001b[0m\u001b[1;33m.\u001b[0m\u001b[0moptions\u001b[0m\u001b[1;33m[\u001b[0m\u001b[1;34m\"has_index_names\"\u001b[0m\u001b[1;33m]\u001b[0m \u001b[1;33m=\u001b[0m \u001b[0mkwds\u001b[0m\u001b[1;33m[\u001b[0m\u001b[1;34m\"has_index_names\"\u001b[0m\u001b[1;33m]\u001b[0m\u001b[1;33m\u001b[0m\u001b[1;33m\u001b[0m\u001b[0m\n\u001b[0;32m    818\u001b[0m \u001b[1;33m\u001b[0m\u001b[0m\n\u001b[1;32m--> 819\u001b[1;33m         \u001b[0mself\u001b[0m\u001b[1;33m.\u001b[0m\u001b[0m_engine\u001b[0m \u001b[1;33m=\u001b[0m \u001b[0mself\u001b[0m\u001b[1;33m.\u001b[0m\u001b[0m_make_engine\u001b[0m\u001b[1;33m(\u001b[0m\u001b[0mself\u001b[0m\u001b[1;33m.\u001b[0m\u001b[0mengine\u001b[0m\u001b[1;33m)\u001b[0m\u001b[1;33m\u001b[0m\u001b[1;33m\u001b[0m\u001b[0m\n\u001b[0m\u001b[0;32m    820\u001b[0m \u001b[1;33m\u001b[0m\u001b[0m\n\u001b[0;32m    821\u001b[0m     \u001b[1;32mdef\u001b[0m \u001b[0mclose\u001b[0m\u001b[1;33m(\u001b[0m\u001b[0mself\u001b[0m\u001b[1;33m)\u001b[0m\u001b[1;33m:\u001b[0m\u001b[1;33m\u001b[0m\u001b[1;33m\u001b[0m\u001b[0m\n",
      "\u001b[1;32m~\\anaconda3\\lib\\site-packages\\pandas\\io\\parsers.py\u001b[0m in \u001b[0;36m_make_engine\u001b[1;34m(self, engine)\u001b[0m\n\u001b[0;32m   1048\u001b[0m             )\n\u001b[0;32m   1049\u001b[0m         \u001b[1;31m# error: Too many arguments for \"ParserBase\"\u001b[0m\u001b[1;33m\u001b[0m\u001b[1;33m\u001b[0m\u001b[1;33m\u001b[0m\u001b[0m\n\u001b[1;32m-> 1050\u001b[1;33m         \u001b[1;32mreturn\u001b[0m \u001b[0mmapping\u001b[0m\u001b[1;33m[\u001b[0m\u001b[0mengine\u001b[0m\u001b[1;33m]\u001b[0m\u001b[1;33m(\u001b[0m\u001b[0mself\u001b[0m\u001b[1;33m.\u001b[0m\u001b[0mf\u001b[0m\u001b[1;33m,\u001b[0m \u001b[1;33m**\u001b[0m\u001b[0mself\u001b[0m\u001b[1;33m.\u001b[0m\u001b[0moptions\u001b[0m\u001b[1;33m)\u001b[0m  \u001b[1;31m# type: ignore[call-arg]\u001b[0m\u001b[1;33m\u001b[0m\u001b[1;33m\u001b[0m\u001b[0m\n\u001b[0m\u001b[0;32m   1051\u001b[0m \u001b[1;33m\u001b[0m\u001b[0m\n\u001b[0;32m   1052\u001b[0m     \u001b[1;32mdef\u001b[0m \u001b[0m_failover_to_python\u001b[0m\u001b[1;33m(\u001b[0m\u001b[0mself\u001b[0m\u001b[1;33m)\u001b[0m\u001b[1;33m:\u001b[0m\u001b[1;33m\u001b[0m\u001b[1;33m\u001b[0m\u001b[0m\n",
      "\u001b[1;32m~\\anaconda3\\lib\\site-packages\\pandas\\io\\parsers.py\u001b[0m in \u001b[0;36m__init__\u001b[1;34m(self, src, **kwds)\u001b[0m\n\u001b[0;32m   1865\u001b[0m \u001b[1;33m\u001b[0m\u001b[0m\n\u001b[0;32m   1866\u001b[0m         \u001b[1;31m# open handles\u001b[0m\u001b[1;33m\u001b[0m\u001b[1;33m\u001b[0m\u001b[1;33m\u001b[0m\u001b[0m\n\u001b[1;32m-> 1867\u001b[1;33m         \u001b[0mself\u001b[0m\u001b[1;33m.\u001b[0m\u001b[0m_open_handles\u001b[0m\u001b[1;33m(\u001b[0m\u001b[0msrc\u001b[0m\u001b[1;33m,\u001b[0m \u001b[0mkwds\u001b[0m\u001b[1;33m)\u001b[0m\u001b[1;33m\u001b[0m\u001b[1;33m\u001b[0m\u001b[0m\n\u001b[0m\u001b[0;32m   1868\u001b[0m         \u001b[1;32massert\u001b[0m \u001b[0mself\u001b[0m\u001b[1;33m.\u001b[0m\u001b[0mhandles\u001b[0m \u001b[1;32mis\u001b[0m \u001b[1;32mnot\u001b[0m \u001b[1;32mNone\u001b[0m\u001b[1;33m\u001b[0m\u001b[1;33m\u001b[0m\u001b[0m\n\u001b[0;32m   1869\u001b[0m         \u001b[1;32mfor\u001b[0m \u001b[0mkey\u001b[0m \u001b[1;32min\u001b[0m \u001b[1;33m(\u001b[0m\u001b[1;34m\"storage_options\"\u001b[0m\u001b[1;33m,\u001b[0m \u001b[1;34m\"encoding\"\u001b[0m\u001b[1;33m,\u001b[0m \u001b[1;34m\"memory_map\"\u001b[0m\u001b[1;33m,\u001b[0m \u001b[1;34m\"compression\"\u001b[0m\u001b[1;33m)\u001b[0m\u001b[1;33m:\u001b[0m\u001b[1;33m\u001b[0m\u001b[1;33m\u001b[0m\u001b[0m\n",
      "\u001b[1;32m~\\anaconda3\\lib\\site-packages\\pandas\\io\\parsers.py\u001b[0m in \u001b[0;36m_open_handles\u001b[1;34m(self, src, kwds)\u001b[0m\n\u001b[0;32m   1360\u001b[0m         \u001b[0mLet\u001b[0m \u001b[0mthe\u001b[0m \u001b[0mreaders\u001b[0m \u001b[0mopen\u001b[0m \u001b[0mIOHanldes\u001b[0m \u001b[0mafter\u001b[0m \u001b[0mthey\u001b[0m \u001b[0mare\u001b[0m \u001b[0mdone\u001b[0m \u001b[1;32mwith\u001b[0m \u001b[0mtheir\u001b[0m \u001b[0mpotential\u001b[0m \u001b[0mraises\u001b[0m\u001b[1;33m.\u001b[0m\u001b[1;33m\u001b[0m\u001b[1;33m\u001b[0m\u001b[0m\n\u001b[0;32m   1361\u001b[0m         \"\"\"\n\u001b[1;32m-> 1362\u001b[1;33m         self.handles = get_handle(\n\u001b[0m\u001b[0;32m   1363\u001b[0m             \u001b[0msrc\u001b[0m\u001b[1;33m,\u001b[0m\u001b[1;33m\u001b[0m\u001b[1;33m\u001b[0m\u001b[0m\n\u001b[0;32m   1364\u001b[0m             \u001b[1;34m\"r\"\u001b[0m\u001b[1;33m,\u001b[0m\u001b[1;33m\u001b[0m\u001b[1;33m\u001b[0m\u001b[0m\n",
      "\u001b[1;32m~\\anaconda3\\lib\\site-packages\\pandas\\io\\common.py\u001b[0m in \u001b[0;36mget_handle\u001b[1;34m(path_or_buf, mode, encoding, compression, memory_map, is_text, errors, storage_options)\u001b[0m\n\u001b[0;32m    640\u001b[0m                 \u001b[0merrors\u001b[0m \u001b[1;33m=\u001b[0m \u001b[1;34m\"replace\"\u001b[0m\u001b[1;33m\u001b[0m\u001b[1;33m\u001b[0m\u001b[0m\n\u001b[0;32m    641\u001b[0m             \u001b[1;31m# Encoding\u001b[0m\u001b[1;33m\u001b[0m\u001b[1;33m\u001b[0m\u001b[1;33m\u001b[0m\u001b[0m\n\u001b[1;32m--> 642\u001b[1;33m             handle = open(\n\u001b[0m\u001b[0;32m    643\u001b[0m                 \u001b[0mhandle\u001b[0m\u001b[1;33m,\u001b[0m\u001b[1;33m\u001b[0m\u001b[1;33m\u001b[0m\u001b[0m\n\u001b[0;32m    644\u001b[0m                 \u001b[0mioargs\u001b[0m\u001b[1;33m.\u001b[0m\u001b[0mmode\u001b[0m\u001b[1;33m,\u001b[0m\u001b[1;33m\u001b[0m\u001b[1;33m\u001b[0m\u001b[0m\n",
      "\u001b[1;31mFileNotFoundError\u001b[0m: [Errno 2] No such file or directory: './datasets/train.csv'"
     ]
    }
   ],
   "source": [
    "train = pd.read_csv('./datasets/train.csv')\n",
    "test = pd.read_csv('./datasets/test.csv')\n",
    "train.head()"
   ]
  },
  {
   "cell_type": "code",
   "execution_count": null,
   "id": "117da9e6",
   "metadata": {},
   "outputs": [],
   "source": [
    "test.head()"
   ]
  },
  {
   "cell_type": "code",
   "execution_count": null,
   "id": "e70dc686",
   "metadata": {},
   "outputs": [],
   "source": [
    "#rename columns\n",
    "train = train.rename(columns = str.lower)\n",
    "test = test.rename(columns = str.lower)\n",
    "\n",
    "train.columns = train.columns.str.replace(' ', '_')\n",
    "test.columns = test.columns.str.replace(' ', '_')"
   ]
  },
  {
   "cell_type": "code",
   "execution_count": null,
   "id": "40fe5ed5",
   "metadata": {},
   "outputs": [],
   "source": [
    "test_id = test['id'].to_frame()"
   ]
  },
  {
   "cell_type": "code",
   "execution_count": null,
   "id": "369335dd",
   "metadata": {},
   "outputs": [],
   "source": [
    "#check\n",
    "print(f'train : {train.columns[:5]}')\n",
    "print(f'test : {test.columns[:5]}')"
   ]
  },
  {
   "cell_type": "markdown",
   "id": "5809238a",
   "metadata": {},
   "source": [
    "## Data Cleaning"
   ]
  },
  {
   "cell_type": "code",
   "execution_count": null,
   "id": "bd96fb2a",
   "metadata": {},
   "outputs": [],
   "source": [
    "#shape\n",
    "print(f'train : {train.shape}')\n",
    "print(f'test : {test.shape}')"
   ]
  },
  {
   "cell_type": "code",
   "execution_count": null,
   "id": "06a4a723",
   "metadata": {
    "scrolled": true
   },
   "outputs": [],
   "source": [
    "#train set data\n",
    "train.info()"
   ]
  },
  {
   "cell_type": "code",
   "execution_count": null,
   "id": "1431e197",
   "metadata": {
    "scrolled": true
   },
   "outputs": [],
   "source": [
    "#test set data\n",
    "test.info()"
   ]
  },
  {
   "cell_type": "markdown",
   "id": "ece2a558",
   "metadata": {},
   "source": [
    "**Comments:** To create new features first before dealing with the missing data "
   ]
  },
  {
   "cell_type": "markdown",
   "id": "a54f8361",
   "metadata": {},
   "source": [
    "**Features to add:** \n",
    "1. age of the house\n",
    "2. age of remodel\n",
    "3. age of garage garage\n",
    "4. total square feet of the house"
   ]
  },
  {
   "cell_type": "code",
   "execution_count": null,
   "id": "b3f51c08",
   "metadata": {},
   "outputs": [],
   "source": [
    "#create features for train\n",
    "train['age_home'] = train['yr_sold'] - train['year_built']\n",
    "train['age_remodel'] = train['yr_sold'] - train['year_remod/add']\n",
    "train['age_garage'] = train['yr_sold'] - train['garage_yr_blt']"
   ]
  },
  {
   "cell_type": "code",
   "execution_count": null,
   "id": "8dafa638",
   "metadata": {},
   "outputs": [],
   "source": [
    "#create features for test\n",
    "test['age_home'] = test['yr_sold'] - test['year_built']\n",
    "test['age_remodel'] = test['yr_sold'] - test['year_remod/add']\n",
    "test['age_garage'] = test['yr_sold'] - test['garage_yr_blt']"
   ]
  },
  {
   "cell_type": "markdown",
   "id": "5e61ed8e",
   "metadata": {},
   "source": [
    "Let's take a look at the correlation with the saleprice"
   ]
  },
  {
   "cell_type": "code",
   "execution_count": null,
   "id": "370b4de2",
   "metadata": {
    "scrolled": true
   },
   "outputs": [],
   "source": [
    "plt.figure(figsize= (5,12))\n",
    "sns.heatmap(train.corr()[['saleprice']].sort_values(by= 'saleprice',ascending=False), annot = True, cmap = \"Spectral\")\n",
    "plt.show()"
   ]
  },
  {
   "cell_type": "markdown",
   "id": "72889724",
   "metadata": {},
   "source": [
    "**Comment:** I will remove features that has low correlation with saleprice (<= 0.2 and <= -0.2)"
   ]
  },
  {
   "cell_type": "code",
   "execution_count": null,
   "id": "ba82324e",
   "metadata": {},
   "outputs": [],
   "source": [
    "# #to remove correlation <= 0.2 and >= -0.2 from train data set\n",
    "# train.drop(columns = ['bsmt_full_bath',\n",
    "#                       'half_bath',\n",
    "#                       '2nd_flr_sf',\n",
    "#                       'bsmt_unf_sf', \n",
    "#                       'bedroom_abvgr', \n",
    "#                       'screen_porch', \n",
    "#                       '3ssn_porch', \n",
    "#                       'mo_sold', \n",
    "#                       'pool_area', \n",
    "#                       'bsmtfin_sf_2', \n",
    "#                       'misc_val', \n",
    "#                       'yr_sold', \n",
    "#                       'low_qual_fin_sf', \n",
    "#                       'bsmt_half_bath',\n",
    "#                       'ms_subclass', \n",
    "#                       'overall_cond', \n",
    "#                       'kitchen_abvgr', \n",
    "#                       'enclosed_porch',\n",
    "#                       'id',\n",
    "#                       'pid'], inplace = True)\n",
    "\n",
    "train.drop(columns = ['bsmt_full_bath', 'bsmt_unf_sf', 'bedroom_abvgr',\n",
    "       'screen_porch', '3ssn_porch', 'exter_cond', 'mo_sold', 'pool_qc',\n",
    "       'pool_area', 'bsmtfin_sf_2', 'misc_val', 'yr_sold', 'low_qual_fin_sf',\n",
    "       'bsmt_half_bath', 'ms_subclass', 'overall_cond', 'kitchen_abvgr',\n",
    "       'enclosed_porch'], inplace = True)"
   ]
  },
  {
   "cell_type": "code",
   "execution_count": null,
   "id": "91b5a9c4",
   "metadata": {},
   "outputs": [],
   "source": [
    "# #to remove correlation <= 0.2 and >= -0.2 from test data set\n",
    "# test.drop(columns = [ 'bsmt_full_bath',\n",
    "#                       'half_bath',\n",
    "#                       '2nd_flr_sf',\n",
    "#                       'bsmt_unf_sf', \n",
    "#                       'bedroom_abvgr', \n",
    "#                       'screen_porch', \n",
    "#                       '3ssn_porch', \n",
    "#                       'mo_sold', \n",
    "#                       'pool_area', \n",
    "#                       'bsmtfin_sf_2', \n",
    "#                       'misc_val', \n",
    "#                       'yr_sold', \n",
    "#                       'low_qual_fin_sf', \n",
    "#                       'bsmt_half_bath',\n",
    "#                       'ms_subclass', \n",
    "#                       'overall_cond', \n",
    "#                       'kitchen_abvgr', \n",
    "#                       'enclosed_porch',\n",
    "#                       'id',\n",
    "#                       'pid'], inplace = True)\n",
    "\n",
    "test.drop(columns = ['bsmt_full_bath', 'bsmt_unf_sf', 'bedroom_abvgr',\n",
    "       'screen_porch', '3ssn_porch', 'exter_cond', 'mo_sold', 'pool_qc',\n",
    "       'pool_area', 'bsmtfin_sf_2', 'misc_val', 'yr_sold', 'low_qual_fin_sf',\n",
    "       'bsmt_half_bath', 'ms_subclass', 'overall_cond', 'kitchen_abvgr',\n",
    "       'enclosed_porch'], inplace = True)"
   ]
  },
  {
   "cell_type": "markdown",
   "id": "078509cd",
   "metadata": {},
   "source": [
    "Further explore on the heatmap for **numerical features**"
   ]
  },
  {
   "cell_type": "code",
   "execution_count": null,
   "id": "87c599c3",
   "metadata": {},
   "outputs": [],
   "source": [
    "# #heatmap\n",
    "# mask = np.zeros_like(train.corr()[abs(train.corr()) >= 0.8])\n",
    "# mask[np.triu_indices_from(mask)] = True\n",
    "\n",
    "# plt.figure(figsize= (12,8))\n",
    "# sns.heatmap(train.corr()[abs(train.corr()) >= 0.8], annot= True, cmap = \"Spectral\", mask = mask)\n",
    "# title = plt.title('Correlation Heatmap')\n",
    "# plt.show()"
   ]
  },
  {
   "cell_type": "markdown",
   "id": "07534b6c",
   "metadata": {},
   "source": [
    "**Comment:** Multicollinearity is found in the training data which may cause negative impact on the predicition model. Below features that are highly correlated:\n",
    "1. year_built vs age_garage\n",
    "2. year_built vs age_home\n",
    "3. year_built vs garage_yr_blt\n",
    "4. year_remod/add vs age_remodel\n",
    "5. total_bsmt_sf vs 1st_flr_sf\n",
    "6. gr_liv_area vs total_sf\n",
    "7. gr_liv_area vs totrms_abvgrd\n",
    "8. garage_yr_blt vs age_garage\n",
    "9. garage_yr_blt vs age_home\n",
    "10. garage_cars vs garage_area\n",
    "11. age_home vs age_garage\n",
    "\n",
    "Hence, i will remove a feature from the pair that has lower correlation with saleprice."
   ]
  },
  {
   "cell_type": "code",
   "execution_count": null,
   "id": "0471cf69",
   "metadata": {},
   "outputs": [],
   "source": [
    "#remove from train data set\n",
    "train.drop(columns = ['year_built',\n",
    "                     'year_remod/add',\n",
    "                     '1st_flr_sf',\n",
    "                     'totrms_abvgrd',\n",
    "                     'garage_yr_blt',\n",
    "                     'garage_cars',\n",
    "                     'age_garage'], inplace = True)"
   ]
  },
  {
   "cell_type": "code",
   "execution_count": null,
   "id": "f1e9d1f5",
   "metadata": {},
   "outputs": [],
   "source": [
    "test.drop(columns = ['year_built',\n",
    "                     'year_remod/add',\n",
    "                     '1st_flr_sf',\n",
    "                     'totrms_abvgrd',\n",
    "                     'garage_yr_blt',\n",
    "                     'garage_cars',\n",
    "                     'age_garage'], inplace = True)"
   ]
  },
  {
   "cell_type": "code",
   "execution_count": null,
   "id": "41765dcb",
   "metadata": {
    "scrolled": true
   },
   "outputs": [],
   "source": [
    "print(train.shape)\n",
    "print(test.shape)"
   ]
  },
  {
   "cell_type": "markdown",
   "id": "facfdfe4",
   "metadata": {},
   "source": [
    "Now i will tackle on the **missing values**."
   ]
  },
  {
   "cell_type": "code",
   "execution_count": null,
   "id": "48e67ffb",
   "metadata": {},
   "outputs": [],
   "source": [
    "#sum of null values in train data\n",
    "train.isna().sum().sort_values(ascending=False).head(25)"
   ]
  },
  {
   "cell_type": "markdown",
   "id": "0bfc2d66",
   "metadata": {},
   "source": [
    "Clean train data set"
   ]
  },
  {
   "cell_type": "code",
   "execution_count": null,
   "id": "709f6ae9",
   "metadata": {},
   "outputs": [],
   "source": [
    "#pool qc, no pool = 'none'\n",
    "# train['pool_qc'].fillna('None', inplace= True)\n",
    "# bookmark, removed pool qc above, low correlation\n",
    "\n",
    "#no misc feature = 'none'\n",
    "train['misc_feature'].fillna('None', inplace= True)\n",
    "\n",
    "#no alley = 'none'\n",
    "train['alley'].fillna('None', inplace= True)\n",
    "\n",
    "#no fence = 'none'\n",
    "train['fence'].fillna('None', inplace= True)\n",
    "\n",
    "#fireplace qu, no fireplace = 'none'\n",
    "train['fireplace_qu'].fillna('None', inplace= True)\n",
    "\n",
    "#assuming every house has a frontage, i will apply mean to the missing value\n",
    "train['lot_frontage'].fillna(train['lot_frontage'].mean(), inplace= True)\n",
    "\n",
    "#no garage = 'none'\n",
    "train['garage_finish'].fillna('None', inplace= True)\n",
    "train['garage_qual'].fillna('None', inplace = True)\n",
    "train['garage_cond'].fillna('None', inplace = True)\n",
    "train['garage_type'].fillna('None', inplace = True)\n",
    "\n",
    "#no bsmt = 'none'\n",
    "train['bsmt_exposure'].fillna('None', inplace= True)\n",
    "train['bsmtfin_type_2'].fillna('None', inplace= True)\n",
    "train['bsmtfin_type_1'].fillna('None', inplace= True)\n",
    "train['bsmt_cond'].fillna('None', inplace= True)\n",
    "train['bsmt_qual'].fillna('None', inplace= True)\n",
    "\n",
    "#no mas vnr = 'none'\n",
    "train['mas_vnr_type'].fillna('None', inplace= True)\n",
    "\n",
    "#no mas vnr = 0\n",
    "train['mas_vnr_area'].fillna(0, inplace= True)\n",
    "\n",
    "#no bsmt, bsmt full bath, bsmtfin sf 1 = 0\n",
    "train['total_bsmt_sf'].fillna(0, inplace= True)\n",
    "train['bsmtfin_sf_1'].fillna(0, inplace= True)\n",
    "\n",
    "#no garage, garage_area = 0\n",
    "train['garage_area'].fillna(0, inplace= True)"
   ]
  },
  {
   "cell_type": "code",
   "execution_count": null,
   "id": "7a4499a8",
   "metadata": {
    "scrolled": true
   },
   "outputs": [],
   "source": [
    "#sum of null values in test data\n",
    "test.isna().sum().sort_values(ascending=False).head(25)"
   ]
  },
  {
   "cell_type": "markdown",
   "id": "35972eb6",
   "metadata": {},
   "source": [
    "Clean test data set"
   ]
  },
  {
   "cell_type": "code",
   "execution_count": null,
   "id": "bb2be9a1",
   "metadata": {},
   "outputs": [],
   "source": [
    "#non-categorical features\n",
    "test['lot_frontage'].fillna(test['lot_frontage'].mean(), inplace= True)\n",
    "test['mas_vnr_area'].fillna(test['mas_vnr_area'].mean(), inplace= True)\n",
    "\n",
    "#categorical features, i will apply mode values.\n",
    "#test['pool_qc'].fillna(test['pool_qc'].mode()[0], inplace= True)\n",
    "#bookmark, same as above\n",
    "test['misc_feature'].fillna(test['misc_feature'].mode()[0], inplace= True)\n",
    "test['alley'].fillna(test['alley'].mode()[0], inplace= True)\n",
    "test['fence'].fillna(test['fence'].mode()[0], inplace= True)\n",
    "test['fireplace_qu'].fillna(test['fireplace_qu'].mode()[0], inplace= True)\n",
    "test['garage_finish'].fillna(test['garage_finish'].mode()[0], inplace= True)\n",
    "test['garage_qual'].fillna(test['garage_qual'].mode()[0], inplace= True)\n",
    "test['garage_cond'].fillna(test['garage_cond'].mode()[0], inplace= True)\n",
    "test['garage_type'].fillna(test['garage_type'].mode()[0], inplace= True)\n",
    "test['bsmt_exposure'].fillna(test['bsmt_exposure'].mode()[0], inplace= True)\n",
    "test['bsmtfin_type_2'].fillna(test['bsmtfin_type_2'].mode()[0], inplace= True)\n",
    "test['bsmtfin_type_1'].fillna(test['bsmtfin_type_1'].mode()[0], inplace= True)\n",
    "test['bsmt_cond'].fillna(test['bsmt_cond'].mode()[0], inplace= True)\n",
    "test['bsmt_qual'].fillna(test['bsmt_qual'].mode()[0], inplace= True)\n",
    "test['mas_vnr_type'].fillna(test['mas_vnr_type'].mode()[0], inplace= True)\n",
    "test['electrical'].fillna(test['electrical'].mode()[0], inplace= True)"
   ]
  },
  {
   "cell_type": "markdown",
   "id": "b44f67d6",
   "metadata": {},
   "source": [
    "Check again for any missing values"
   ]
  },
  {
   "cell_type": "code",
   "execution_count": null,
   "id": "5e3b75f4",
   "metadata": {
    "scrolled": true
   },
   "outputs": [],
   "source": [
    "print('---train---')\n",
    "print(train.isna().sum().sort_values(ascending=False))\n",
    "print()\n",
    "print('---test---')\n",
    "print(test.isna().sum().sort_values(ascending=False))"
   ]
  },
  {
   "cell_type": "markdown",
   "id": "cfd6f58a",
   "metadata": {},
   "source": [
    "**Comment:** Now, we have 0 missing values."
   ]
  },
  {
   "cell_type": "markdown",
   "id": "19c6f2d2",
   "metadata": {
    "scrolled": true
   },
   "source": [
    "I will plot the scattergraph to check if there are any **outliers** for non-categorical features."
   ]
  },
  {
   "cell_type": "code",
   "execution_count": null,
   "id": "42f023c1",
   "metadata": {
    "scrolled": true
   },
   "outputs": [],
   "source": [
    "#list of non-categorical features for train data set\n",
    "train_num_cols = train._get_numeric_data()\n",
    "train_num_cols.columns.to_list()"
   ]
  },
  {
   "cell_type": "code",
   "execution_count": null,
   "id": "567d9a0b",
   "metadata": {
    "scrolled": true
   },
   "outputs": [],
   "source": [
    "#using scatter graphs for non-categorical columns to identify outliners\n",
    "for col in list(train_num_cols.corr()[['saleprice']].sort_values(by = 'saleprice', ascending=False).index):\n",
    "    if col != 'saleprice':\n",
    "        plt.ylabel('saleprice')\n",
    "        plt.xlabel(col)\n",
    "        sns.scatterplot(data = train_num_cols, x=col, y='saleprice')\n",
    "        plt.show()\n",
    "    else:\n",
    "        pass"
   ]
  },
  {
   "cell_type": "markdown",
   "id": "bc535d1d",
   "metadata": {},
   "source": [
    "From the scattergraph i have identified some of the outliers and will remove them accordingly."
   ]
  },
  {
   "cell_type": "code",
   "execution_count": null,
   "id": "a60498d9",
   "metadata": {
    "scrolled": true
   },
   "outputs": [],
   "source": [
    "train = train[train['gr_liv_area'] <=4000]\n",
    "train[train['gr_liv_area'] > 4000].count().sum()"
   ]
  },
  {
   "cell_type": "code",
   "execution_count": null,
   "id": "af8221a4",
   "metadata": {},
   "outputs": [],
   "source": [
    "train = train[train['garage_area'] <= 1400]\n",
    "train[train['garage_area'] > 1400].count().sum()"
   ]
  },
  {
   "cell_type": "code",
   "execution_count": null,
   "id": "46af851f",
   "metadata": {},
   "outputs": [],
   "source": [
    "train = train[train['total_bsmt_sf'] <= 5000]\n",
    "train[train['total_bsmt_sf'] > 5000].count().sum()"
   ]
  },
  {
   "cell_type": "code",
   "execution_count": null,
   "id": "4bcf60ec",
   "metadata": {},
   "outputs": [],
   "source": [
    "train = train[train['mas_vnr_area'] <= 1400]\n",
    "train[train['mas_vnr_area'] > 1400].count().sum()"
   ]
  },
  {
   "cell_type": "code",
   "execution_count": null,
   "id": "487511cf",
   "metadata": {},
   "outputs": [],
   "source": [
    "train = train[train['bsmtfin_sf_1'] <= 3000]\n",
    "train[train['bsmtfin_sf_1'] > 3000].count().sum()"
   ]
  },
  {
   "cell_type": "code",
   "execution_count": null,
   "id": "5d5aa7d7",
   "metadata": {},
   "outputs": [],
   "source": [
    "train = train[train['open_porch_sf'] <=500]\n",
    "train[train['open_porch_sf'] > 500].count().sum()"
   ]
  },
  {
   "cell_type": "code",
   "execution_count": null,
   "id": "55c0ad8f",
   "metadata": {},
   "outputs": [],
   "source": [
    "train = train[train['wood_deck_sf'] <= 1000]\n",
    "train[train['wood_deck_sf'] > 1000].count().sum()"
   ]
  },
  {
   "cell_type": "code",
   "execution_count": null,
   "id": "9730a7c4",
   "metadata": {},
   "outputs": [],
   "source": [
    "train = train[train['lot_frontage'] <= 300]\n",
    "train[train['lot_frontage'] > 300].count().sum()"
   ]
  },
  {
   "cell_type": "code",
   "execution_count": null,
   "id": "74445f09",
   "metadata": {},
   "outputs": [],
   "source": [
    "train = train[train['lot_area'] <= 100000]\n",
    "train[train['lot_area'] > 100000].count().sum()"
   ]
  },
  {
   "cell_type": "code",
   "execution_count": null,
   "id": "4eec9c21",
   "metadata": {},
   "outputs": [],
   "source": [
    "train = train[train['age_remodel'] >= 0]\n",
    "train[train['age_remodel'] < 0].count().sum()"
   ]
  },
  {
   "cell_type": "markdown",
   "id": "8e53dcce",
   "metadata": {},
   "source": [
    "**Comment:** Outliers removed"
   ]
  },
  {
   "cell_type": "markdown",
   "id": "3ed1f1f5",
   "metadata": {},
   "source": [
    "Let's take a look at the distribution of the non-categorical features"
   ]
  },
  {
   "cell_type": "code",
   "execution_count": null,
   "id": "22722b75",
   "metadata": {},
   "outputs": [],
   "source": [
    "for col in list(train_num_cols.corr()[['saleprice']].sort_values('saleprice', ascending=False).index):\n",
    "    plt.figure(figsize=(8,5))\n",
    "    sns.histplot(data=train_num_cols, x=col, kde=True, color = 'teal', alpha = 0.3)\n",
    "    plt.axvline(x=train[col].mean(), color='crimson', linestyle = 'dashed', label=\"mean\", alpha=1)\n",
    "    plt.axvline(x=train[col].median(), color='purple', linestyle= 'dashed', label=\"median\", alpha=1)\n",
    "    plt.title(f'Distribution of {col}')\n",
    "    plt.legend(['kde','mean', 'median'])\n",
    "    plt.show()"
   ]
  },
  {
   "cell_type": "markdown",
   "id": "68e0b849",
   "metadata": {},
   "source": [
    "**Comment:** The distribution for the target 'saleprice' is positively skewed, i will use log transformation to normalise the target and this will help to improve for the linear regression model."
   ]
  },
  {
   "cell_type": "code",
   "execution_count": null,
   "id": "709d817b",
   "metadata": {},
   "outputs": [],
   "source": [
    "#to make more normal distribution for saleprice\n",
    "#train = np.log(train['saleprice'])         #to log later\n",
    "#plt.figure(figsize=(8,5))\n",
    "#sns.histplot(train['saleprice'], color = 'teal', kde = True, alpha = 0.3)\n",
    "#plt.axvline(x= train['saleprice'].mean(), color = 'crimson', linestyle = 'dashed', label = 'mean', alpha = 1)\n",
    "#plt.axvline(x= train['saleprice'].median(), color = 'purple', linestyle = 'dashed', label = 'mean', alpha = 1)\n",
    "#plt.show()"
   ]
  },
  {
   "cell_type": "markdown",
   "id": "a025ae0b",
   "metadata": {},
   "source": [
    "Next, i will examine the rest of the non-categorical features and use log transformation to fix them, if necessary."
   ]
  },
  {
   "cell_type": "code",
   "execution_count": null,
   "id": "f4c6b2e0",
   "metadata": {
    "scrolled": false
   },
   "outputs": [],
   "source": [
    "#to log transform the rest of the non-categorical features which are positively skewed.\n",
    "#train['mas_vnr_area'] = np.log1p(train['mas_vnr_area'])\n",
    "#train['open_porch_sf'] = np.log1p(train['open_porch_sf'])\n",
    "#train['wood_deck_sf'] = np.log1p(train['wood_deck_sf'])\n",
    "#train['bsmt_full_bath'] = np.log1p(train['bsmt_full_bath'])\n",
    "#train['half_bath'] = np.log1p(train['half_bath'])\n",
    "#train['2nd_flr_sf'] = np.log1p(train['2nd_flr_sf'])\n",
    "#train['age_remodel'] = np.log1p(train['age_remodel'])"
   ]
  },
  {
   "cell_type": "markdown",
   "id": "7c35b087",
   "metadata": {},
   "source": [
    "**Comment:** Above are the features that i have used log transformation. However, log(0) is Nan, i will use log1p instead."
   ]
  },
  {
   "cell_type": "markdown",
   "id": "17ab5e3d",
   "metadata": {},
   "source": [
    "Now, i will examine for **categorical features**"
   ]
  },
  {
   "cell_type": "code",
   "execution_count": null,
   "id": "d57d060c",
   "metadata": {
    "scrolled": true
   },
   "outputs": [],
   "source": [
    "#categorical features for train data\n",
    "train_non_num_cols = train.select_dtypes(include=['object'])\n",
    "train_non_num_cols.columns.tolist()"
   ]
  },
  {
   "cell_type": "code",
   "execution_count": null,
   "id": "4dd9234c",
   "metadata": {
    "scrolled": true
   },
   "outputs": [],
   "source": [
    "#categorical features for test data\n",
    "test_non_num_cols = test.select_dtypes(include=['object'])\n",
    "test_non_num_cols.columns.tolist()"
   ]
  },
  {
   "cell_type": "code",
   "execution_count": null,
   "id": "7a07396b",
   "metadata": {
    "scrolled": true
   },
   "outputs": [],
   "source": [
    "#using boxplot to analyze the relationship for non-categorical vs saleprice using\n",
    "for col in list(train_non_num_cols):\n",
    "    plt.figure(figsize=(7,5))\n",
    "    sns.boxplot(data = train, x = col, y = 'saleprice')\n",
    "    plt.show()"
   ]
  },
  {
   "cell_type": "markdown",
   "id": "e6022341",
   "metadata": {},
   "source": [
    "By analyzing on the boxplot, i will remove the feature that has insignificant impact to the saleprice."
   ]
  },
  {
   "cell_type": "markdown",
   "id": "48d14a19",
   "metadata": {},
   "source": [
    "**Comment:** <br> \n",
    "To drop: \n",
    "1. Alley - Despite majority of the houses have no alley, many of the houses are still able to fetch at a higher selling price.\n",
    "2. Utilities - Almost all of the houses have all public utilities, hence it has no useful information for our model.\n",
    "3. Lot Config - Overlapping without any clear distinction.\n",
    "4. Land Slope - Overlapping without any clear distinction.\n",
    "5. Heating - Majority of the houses using 'GasA' type heating, hence will not provide any meaningful information.\n",
    "6. Pool QC -  Majority of the houses has no pool, hence will not provide any meaningful information.\n",
    "7. Fence - Majority has no fence and yet they are able to fetch a similar price as good privacy.\n",
    "8. Misc Feature - Majority of the houses has no miscellaneous feature."
   ]
  },
  {
   "cell_type": "code",
   "execution_count": null,
   "id": "1c30de97",
   "metadata": {},
   "outputs": [],
   "source": [
    "train.drop(columns = ['ms_zoning',\n",
    "                      'alley',\n",
    "                      'lot_shape',\n",
    "                      'utilities',\n",
    "                      'roof_style',\n",
    "                      'heating',\n",
    "                      'electrical',\n",
    "                      'lot_config',\n",
    "                      'land_slope',\n",
    "                      'paved_drive',\n",
    "# removed above                      'pool_qc',\n",
    "                      'fence',\n",
    "                      'misc_feature'], inplace = True)"
   ]
  },
  {
   "cell_type": "code",
   "execution_count": null,
   "id": "84428314",
   "metadata": {},
   "outputs": [],
   "source": [
    "test.drop(columns = ['ms_zoning',\n",
    "                      'alley',\n",
    "                      'lot_shape',\n",
    "                      'utilities',\n",
    "                      'roof_style',\n",
    "                      'heating',\n",
    "                      'electrical',\n",
    "                      'lot_config',\n",
    "                      'land_slope',\n",
    "                      'paved_drive',\n",
    "# removed above                      'pool_qc',\n",
    "                      'fence',\n",
    "                      'misc_feature'], inplace = True)"
   ]
  },
  {
   "cell_type": "code",
   "execution_count": null,
   "id": "064109b5",
   "metadata": {},
   "outputs": [],
   "source": [
    "print(train.shape)\n",
    "print(test.shape)"
   ]
  },
  {
   "cell_type": "code",
   "execution_count": null,
   "id": "5b03ff84",
   "metadata": {},
   "outputs": [],
   "source": [
    "#for col in list(train_non_numerical_cols):\n",
    "#    sns.histplot(data = train, x = col)\n",
    " #   plt.show()"
   ]
  },
  {
   "cell_type": "markdown",
   "id": "14ae8880",
   "metadata": {},
   "source": [
    "I will change the quality and condition to numeric. "
   ]
  },
  {
   "cell_type": "code",
   "execution_count": null,
   "id": "7bcc731d",
   "metadata": {},
   "outputs": [],
   "source": [
    "#changing the quality to numeric\n",
    "#train['exter_qual'] = train['exter_qual'].map({'Ex': 5, 'Gd': 4, 'TA': 3, 'Fa': 2, 'Po' : 1, 'None' : 0})\n",
    "#train['bsmt_qual'] = train['bsmt_qual'].map({'Ex' : 5, 'Gd' : 4, 'TA': 3, 'Fa' : 2, 'Po' : 1, 'None' : 0})\n",
    "#train['bsmt_cond'] = train['bsmt_cond'].map({'Ex' : 5, 'Gd' : 4, 'TA': 3, 'Fa' : 2, 'Po' : 1, 'None' : 0})\n",
    "#train['heating_qc'] = train['heating_qc'].map({'Ex' : 5, 'Gd' : 4, 'TA': 3, 'Fa' : 2, 'Po' : 1, 'None' : 0})\n",
    "#train['kitchen_qual'] = train['kitchen_qual'].map({'Ex' : 5, 'Gd' : 4, 'TA': 3, 'Fa' : 2, 'Po' : 1, 'None' : 0})\n",
    "#train['garage_qual'] = train['garage_qual'].map({'Ex' : 5, 'Gd' : 4, 'TA': 3, 'Fa' : 2, 'Po' : 1, 'None' : 0})\n",
    "#train['garage_cond'] = train['garage_cond'].map({'Ex' : 5, 'Gd' : 4, 'TA': 3, 'Fa' : 2, 'Po' : 1, 'None' : 0})"
   ]
  },
  {
   "cell_type": "code",
   "execution_count": null,
   "id": "ca5e24f8",
   "metadata": {},
   "outputs": [],
   "source": [
    "#changing the quality to numeric\n",
    "#rating = {'Ex': 5, 'Gd': 4, 'TA':3 , 'Fa': 2, 'Po': 1, 'None': 0}\n",
    "#train['exter_qual'] = train['exter_qual'].replace(rating)\n",
    "#train['bsmt_qual'] = train['bsmt_qual'].replace(rating)\n",
    "#train['bsmt_cond'] = train['bsmt_cond'].replace(rating)\n",
    "#train['heating_qc'] = train['heating_qc'].replace(rating)\n",
    "#train['kitchen_qual'] = train['kitchen_qual'].replace(rating)\n",
    "#train['garage_qual'] = train['garage_qual'].replace(rating)\n",
    "#train['garage_cond'] = train['garage_cond'].replace(rating)"
   ]
  },
  {
   "cell_type": "code",
   "execution_count": null,
   "id": "cf88d5ad",
   "metadata": {},
   "outputs": [],
   "source": [
    "#changing the quality to numeric\n",
    "#test['exter_qual'] = test['exter_qual'].replace(rating)\n",
    "#test['bsmt_qual'] = test['bsmt_qual'].replace(rating)\n",
    "#test['bsmt_cond'] = test['bsmt_cond'].replace(rating)\n",
    "#test['heating_qc'] = test['heating_qc'].replace(rating)\n",
    "#test['kitchen_qual'] = test['kitchen_qual'].replace(rating)\n",
    "#test['garage_qual'] = test['garage_qual'].replace(rating)\n",
    "#test['garage_cond'] = test['garage_cond'].replace(rating)"
   ]
  },
  {
   "cell_type": "markdown",
   "id": "30d9b998",
   "metadata": {},
   "source": [
    "Converting categorical columns into a one-hot encoded matrix"
   ]
  },
  {
   "cell_type": "code",
   "execution_count": null,
   "id": "d9ccc747",
   "metadata": {},
   "outputs": [],
   "source": [
    "#converting train data\n",
    "train_cat_var = list(train.dtypes[train.dtypes =='object'].index)"
   ]
  },
  {
   "cell_type": "code",
   "execution_count": null,
   "id": "3e95ca3b",
   "metadata": {},
   "outputs": [],
   "source": [
    "train_cat_var"
   ]
  },
  {
   "cell_type": "code",
   "execution_count": null,
   "id": "f77f33d3",
   "metadata": {},
   "outputs": [],
   "source": [
    "train = pd.get_dummies(data=train, columns=train_cat_var,drop_first=True)"
   ]
  },
  {
   "cell_type": "code",
   "execution_count": null,
   "id": "25fc7e90",
   "metadata": {
    "scrolled": false
   },
   "outputs": [],
   "source": [
    "train.head()"
   ]
  },
  {
   "cell_type": "code",
   "execution_count": null,
   "id": "f8f9e29d",
   "metadata": {},
   "outputs": [],
   "source": [
    "#converting test data\n",
    "test_cat_vars = list(test.dtypes[test.dtypes =='object'].index)"
   ]
  },
  {
   "cell_type": "code",
   "execution_count": null,
   "id": "e3056fd3",
   "metadata": {},
   "outputs": [],
   "source": [
    "test = pd.get_dummies(data=test, columns=test_cat_vars,drop_first=True)"
   ]
  },
  {
   "cell_type": "code",
   "execution_count": null,
   "id": "602e2c3a",
   "metadata": {},
   "outputs": [],
   "source": [
    "test.head()"
   ]
  },
  {
   "cell_type": "code",
   "execution_count": null,
   "id": "cbca760a",
   "metadata": {},
   "outputs": [],
   "source": [
    "print(f'{train.shape}')\n",
    "print(f'{test.shape}')"
   ]
  },
  {
   "cell_type": "markdown",
   "id": "a9e98e4e",
   "metadata": {},
   "source": [
    "Create list of features including dummies"
   ]
  },
  {
   "cell_type": "code",
   "execution_count": null,
   "id": "1ae557b9",
   "metadata": {},
   "outputs": [],
   "source": [
    "# features = [col for col in train._get_numeric_data().columns if col != ['saleprice']]"
   ]
  },
  {
   "cell_type": "code",
   "execution_count": null,
   "id": "599cb3f0",
   "metadata": {},
   "outputs": [],
   "source": [
    "# missing_cols = set(train.columns) - set(test.columns)\n",
    "# # Add a missing column in test with default value equal to 0\n",
    "# for c in missing_cols:\n",
    "#     test[c] = 0\n",
    "# # Ensure the order of columns in test is the same as in train\n",
    "# test = test[features]"
   ]
  },
  {
   "cell_type": "code",
   "execution_count": null,
   "id": "29b05a24",
   "metadata": {},
   "outputs": [],
   "source": [
    "#bookmark"
   ]
  },
  {
   "cell_type": "code",
   "execution_count": null,
   "id": "a5bf660a",
   "metadata": {},
   "outputs": [],
   "source": [
    "train.columns"
   ]
  },
  {
   "cell_type": "code",
   "execution_count": null,
   "id": "a14ba139",
   "metadata": {},
   "outputs": [],
   "source": [
    "test.columns"
   ]
  },
  {
   "cell_type": "code",
   "execution_count": null,
   "id": "b3230143",
   "metadata": {},
   "outputs": [],
   "source": [
    "train_column_list = list(train.columns)"
   ]
  },
  {
   "cell_type": "code",
   "execution_count": null,
   "id": "0c97174d",
   "metadata": {},
   "outputs": [],
   "source": [
    "test_column_list = list(test.columns)"
   ]
  },
  {
   "cell_type": "code",
   "execution_count": null,
   "id": "0261fadf",
   "metadata": {},
   "outputs": [],
   "source": [
    "for c in train_column_list:\n",
    "    if c != 'saleprice':\n",
    "        if c not in test_column_list:\n",
    "            train.drop(columns = c, inplace = True)\n",
    "        \n",
    "for c in test_column_list:\n",
    "    if c not in train_column_list:\n",
    "        test.drop(columns = c, inplace = True)"
   ]
  },
  {
   "cell_type": "code",
   "execution_count": null,
   "id": "a8de2550",
   "metadata": {
    "scrolled": true
   },
   "outputs": [],
   "source": [
    "print(f'{train.shape}')\n",
    "print(f'{test.shape}')"
   ]
  },
  {
   "cell_type": "markdown",
   "id": "4b718bb7",
   "metadata": {},
   "source": [
    "**Comment:** Columns are aligned"
   ]
  },
  {
   "cell_type": "markdown",
   "id": "6e6383dd",
   "metadata": {},
   "source": [
    "# Model"
   ]
  },
  {
   "cell_type": "markdown",
   "id": "eeec2495",
   "metadata": {},
   "source": [
    "**Train test split**"
   ]
  },
  {
   "cell_type": "code",
   "execution_count": null,
   "id": "cbadbaef",
   "metadata": {},
   "outputs": [],
   "source": [
    "#create X and y\n",
    "X = train.drop(columns = 'saleprice')\n",
    "y = np.log(train['saleprice'])\n",
    "\n",
    "#verify dimensions\n",
    "print('X: ', X.shape)\n",
    "print('y: ', y.shape)"
   ]
  },
  {
   "cell_type": "code",
   "execution_count": null,
   "id": "29e92e90",
   "metadata": {},
   "outputs": [],
   "source": [
    "#train test split\n",
    "X_train, X_test, y_train, y_test = train_test_split(X, y, random_state=42)"
   ]
  },
  {
   "cell_type": "code",
   "execution_count": null,
   "id": "15ce1b7a",
   "metadata": {},
   "outputs": [],
   "source": [
    "#instantiate standard scaler\n",
    "ss = StandardScaler()\n",
    "#fit standard scaler to X_train and transform \n",
    "X_train_sc = ss.fit_transform(X_train)\n",
    "#fit standard scaler to X_test and transform\n",
    "X_test_sc = ss.transform(X_test)\n",
    "\n",
    "#standardize test set data \n",
    "test_sc = ss.fit_transform(test)"
   ]
  },
  {
   "cell_type": "markdown",
   "id": "d1334acf",
   "metadata": {},
   "source": [
    "**Linear Regression**"
   ]
  },
  {
   "cell_type": "code",
   "execution_count": null,
   "id": "be6679ac",
   "metadata": {
    "scrolled": true
   },
   "outputs": [],
   "source": [
    "#instantiate and fit model\n",
    "lr = LinearRegression()\n",
    "lr.fit(X_train_sc, y_train)"
   ]
  },
  {
   "cell_type": "code",
   "execution_count": null,
   "id": "0419eade",
   "metadata": {},
   "outputs": [],
   "source": [
    "print(f'Training Score: {lr.score(X_train_sc, y_train)}')\n",
    "print(f'Testing Score: {lr.score(X_test_sc, y_test)}')\n",
    "print(f'Cross Val Score: {cross_val_score(lr, X_train_sc, y_train, cv=5).mean()}')"
   ]
  },
  {
   "cell_type": "code",
   "execution_count": null,
   "id": "a25b1393",
   "metadata": {},
   "outputs": [],
   "source": [
    "#coefficients\n",
    "lr.coef_"
   ]
  },
  {
   "cell_type": "code",
   "execution_count": null,
   "id": "4e001061",
   "metadata": {},
   "outputs": [],
   "source": [
    "#create a dictionary\n",
    "dict(zip(train.columns,lr.coef_))"
   ]
  },
  {
   "cell_type": "code",
   "execution_count": null,
   "id": "b084c2c5",
   "metadata": {},
   "outputs": [],
   "source": [
    "#y intercept\n",
    "lr.intercept_"
   ]
  },
  {
   "cell_type": "code",
   "execution_count": null,
   "id": "4d136a92",
   "metadata": {},
   "outputs": [],
   "source": [
    "#generate predictions\n",
    "lr_predicition = np.exp(lr.predict(X_test_sc))\n",
    "# bookmark\n",
    "y_test_exp = np.exp(y_test)"
   ]
  },
  {
   "cell_type": "code",
   "execution_count": null,
   "id": "7c090690",
   "metadata": {},
   "outputs": [],
   "source": [
    "#MSE\n",
    "print(f'MSE: {mean_squared_error(y_test_exp, lr_predicition)}')\n",
    "#RMSE\n",
    "print(f'RMSE: {np.sqrt(mean_squared_error(y_test_exp, lr_predicition))}')\n",
    "#R^2\n",
    "print(f'R^2: {r2_score(y_test_exp, lr_predicition)}')"
   ]
  },
  {
   "cell_type": "markdown",
   "id": "879c42d3",
   "metadata": {},
   "source": [
    "**Comment:** Model is overfit and is a bad model"
   ]
  },
  {
   "cell_type": "code",
   "execution_count": null,
   "id": "bb383bd8",
   "metadata": {},
   "outputs": [],
   "source": [
    "#baseline model\n",
    "print(f'MSE of baseline model: {mean_squared_error(y_test_exp, [np.mean(y_train)] * len(y_test))}')\n",
    "print(f'RMSE of baseline model: {np.sqrt(mean_squared_error(y_test_exp, [np.mean(y_train)] * len(y_test)))}')\n",
    "print(f'R^2 of baseline model: {r2_score(y_test_exp, [np.mean(y_train)] * len(y_test))}')"
   ]
  },
  {
   "cell_type": "markdown",
   "id": "0d1c88b1",
   "metadata": {},
   "source": []
  },
  {
   "cell_type": "markdown",
   "id": "305558b3",
   "metadata": {},
   "source": [
    "**Ridge**"
   ]
  },
  {
   "cell_type": "code",
   "execution_count": null,
   "id": "fa5832f5",
   "metadata": {},
   "outputs": [],
   "source": [
    "ridge_alphas = np.logspace(0, 5, 100)\n",
    "\n",
    "ridge_model = RidgeCV(alphas= ridge_alphas, cv=5)\n",
    "ridge_model.fit(X_train_sc, y_train)\n",
    "\n",
    "print (ridge_model.alpha_)"
   ]
  },
  {
   "cell_type": "code",
   "execution_count": null,
   "id": "8c4bd78b",
   "metadata": {},
   "outputs": [],
   "source": [
    "print(ridge_model.score(X_train_sc, y_train))\n",
    "print(ridge_model.score(X_test_sc, y_test))\n",
    "print(cross_val_score(ridge_model, X_train_sc, y_train, cv=5).mean())"
   ]
  },
  {
   "cell_type": "code",
   "execution_count": null,
   "id": "287c4f1d",
   "metadata": {},
   "outputs": [],
   "source": [
    "ridge_model.coef_"
   ]
  },
  {
   "cell_type": "code",
   "execution_count": null,
   "id": "ccd34e59",
   "metadata": {},
   "outputs": [],
   "source": [
    "dict(zip(train.columns,ridge_model.coef_))"
   ]
  },
  {
   "cell_type": "code",
   "execution_count": null,
   "id": "edb69cf7",
   "metadata": {},
   "outputs": [],
   "source": [
    "#y intercept\n",
    "ridge_model.intercept_"
   ]
  },
  {
   "cell_type": "code",
   "execution_count": null,
   "id": "4a6d8fbf",
   "metadata": {},
   "outputs": [],
   "source": [
    "#generate predictions\n",
    "ridge_predicition = ridge_model.predict(X_test_sc)"
   ]
  },
  {
   "cell_type": "code",
   "execution_count": null,
   "id": "4665b5f4",
   "metadata": {},
   "outputs": [],
   "source": [
    "#MSE\n",
    "print(f'MSE: {mean_squared_error(y_test_exp, ridge_predicition)}')\n",
    "#RMSE\n",
    "print(f'RMSE: {np.sqrt(mean_squared_error(y_test_exp, ridge_predicition))}')\n",
    "#R^2\n",
    "print(f'R^2: {r2_score(y_test_exp, ridge_predicition)}')"
   ]
  },
  {
   "cell_type": "markdown",
   "id": "bf541548",
   "metadata": {},
   "source": [
    "**Lasso**"
   ]
  },
  {
   "cell_type": "code",
   "execution_count": null,
   "id": "92cbae28",
   "metadata": {},
   "outputs": [],
   "source": [
    "#lasso_alphas = np.logspace(-5, 5, 500)\n",
    "\n",
    "#lasso_model = LassoCV(alphas= lasso_alphas, cv=5, max_iter=50000)\n",
    "lasso_model = LassoCV(n_alphas=500, cv=5, verbose=1)\n",
    "lasso_model.fit(X_train_sc, y_train)\n",
    "\n",
    "print (lasso_model.alpha_)"
   ]
  },
  {
   "cell_type": "code",
   "execution_count": null,
   "id": "b7a35f5f",
   "metadata": {},
   "outputs": [],
   "source": [
    "lasso = Lasso(alpha=lasso_model.alpha_).fit(X_train_sc, y_train)"
   ]
  },
  {
   "cell_type": "code",
   "execution_count": null,
   "id": "3259ef65",
   "metadata": {},
   "outputs": [],
   "source": [
    "print(lasso_model.score(X_train_sc, y_train))\n",
    "print(lasso_model.score(X_test_sc, y_test))\n",
    "print(cross_val_score(lasso_model, X_train_sc, y_train, cv=5).mean())"
   ]
  },
  {
   "cell_type": "code",
   "execution_count": null,
   "id": "f00b9968",
   "metadata": {},
   "outputs": [],
   "source": [
    "lasso_model.coef_"
   ]
  },
  {
   "cell_type": "code",
   "execution_count": null,
   "id": "71836142",
   "metadata": {},
   "outputs": [],
   "source": [
    "dict(zip(train.columns,lasso_model.coef_))"
   ]
  },
  {
   "cell_type": "code",
   "execution_count": null,
   "id": "bafea0f6",
   "metadata": {},
   "outputs": [],
   "source": [
    "#y intercept\n",
    "lasso_model.intercept_"
   ]
  },
  {
   "cell_type": "code",
   "execution_count": null,
   "id": "57045a1d",
   "metadata": {},
   "outputs": [],
   "source": [
    "#generate predictions\n",
    "lasso_predicition = np.exp(lasso_model.predict(X_test_sc))"
   ]
  },
  {
   "cell_type": "code",
   "execution_count": null,
   "id": "a43c4f34",
   "metadata": {},
   "outputs": [],
   "source": [
    "#MSE\n",
    "print(f'MSE: {mean_squared_error(y_test_exp, lasso_predicition)}')\n",
    "#RMSE\n",
    "print(f'RMSE: {np.sqrt(mean_squared_error(y_test_exp, lasso_predicition))}')\n",
    "#R^2\n",
    "print(f'R^2: {r2_score(y_test_exp, lasso_predicition)}')"
   ]
  },
  {
   "cell_type": "markdown",
   "id": "da0102c5",
   "metadata": {},
   "source": [
    "Submission to Kaggle"
   ]
  },
  {
   "cell_type": "code",
   "execution_count": null,
   "id": "e9b33b54",
   "metadata": {},
   "outputs": [],
   "source": [
    "y_pred = np.exp(lasso_model.predict(test_sc))"
   ]
  },
  {
   "cell_type": "code",
   "execution_count": null,
   "id": "48784c25",
   "metadata": {},
   "outputs": [],
   "source": [
    "submission = pd.DataFrame(y_pred, columns=['saleprice'])\n",
    "submission['id'] = test['id']\n",
    "submission = submission[['id', 'saleprice']]"
   ]
  },
  {
   "cell_type": "code",
   "execution_count": null,
   "id": "b148d3a5",
   "metadata": {},
   "outputs": [],
   "source": [
    "submission.head()"
   ]
  },
  {
   "cell_type": "code",
   "execution_count": null,
   "id": "053b1b84",
   "metadata": {
    "scrolled": true
   },
   "outputs": [],
   "source": [
    "submission.info"
   ]
  },
  {
   "cell_type": "code",
   "execution_count": null,
   "id": "273ad4a6",
   "metadata": {},
   "outputs": [],
   "source": [
    "submission.to_csv('../datasets/Lasso_06.csv', index=False)"
   ]
  },
  {
   "cell_type": "code",
   "execution_count": null,
   "id": "a1b95813",
   "metadata": {},
   "outputs": [],
   "source": []
  }
 ],
 "metadata": {
  "kernelspec": {
   "display_name": "Python 3",
   "language": "python",
   "name": "python3"
  },
  "language_info": {
   "codemirror_mode": {
    "name": "ipython",
    "version": 3
   },
   "file_extension": ".py",
   "mimetype": "text/x-python",
   "name": "python",
   "nbconvert_exporter": "python",
   "pygments_lexer": "ipython3",
   "version": "3.8.8"
  }
 },
 "nbformat": 4,
 "nbformat_minor": 5
}
